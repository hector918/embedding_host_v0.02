{
 "cells": [
  {
   "cell_type": "code",
   "execution_count": 1,
   "id": "e8707220-63a2-4d77-9119-dc51be8450e8",
   "metadata": {},
   "outputs": [],
   "source": [
    "import sys\n",
    "sys.path.append(\"..\")\n",
    "\n",
    "from data._gen_data import get_df"
   ]
  },
  {
   "cell_type": "code",
   "execution_count": 2,
   "id": "d4db5e19-419e-44a4-8573-2a013bbf55fe",
   "metadata": {},
   "outputs": [],
   "source": [
    "import pandas\n",
    "\n",
    "df = get_df(\"rss_reader\")"
   ]
  },
  {
   "cell_type": "code",
   "execution_count": 4,
   "id": "dfd08cff-f1f4-467e-849f-c3ce4725a0e6",
   "metadata": {},
   "outputs": [
    {
     "data": {
      "text/plain": [
       "'Forty fires have broken out in Greece since Saturday, with firefighters still battling seven.'"
      ]
     },
     "execution_count": 4,
     "metadata": {},
     "output_type": "execute_result"
    }
   ],
   "source": [
    "df[\"description\"][0]"
   ]
  },
  {
   "cell_type": "code",
   "execution_count": 5,
   "id": "fa968e90-7723-4226-a155-cbe60aff5141",
   "metadata": {},
   "outputs": [
    {
     "data": {
      "text/html": [
       "<div>\n",
       "<style scoped>\n",
       "    .dataframe tbody tr th:only-of-type {\n",
       "        vertical-align: middle;\n",
       "    }\n",
       "\n",
       "    .dataframe tbody tr th {\n",
       "        vertical-align: top;\n",
       "    }\n",
       "\n",
       "    .dataframe thead th {\n",
       "        text-align: right;\n",
       "    }\n",
       "</style>\n",
       "<table border=\"1\" class=\"dataframe\">\n",
       "  <thead>\n",
       "    <tr style=\"text-align: right;\">\n",
       "      <th></th>\n",
       "      <th>title</th>\n",
       "      <th>description</th>\n",
       "      <th>key_information</th>\n",
       "    </tr>\n",
       "  </thead>\n",
       "  <tbody>\n",
       "    <tr>\n",
       "      <th>0</th>\n",
       "      <td>Residents flee Greek wildfire as heatwave pers...</td>\n",
       "      <td>Forty fires have broken out in Greece since Sa...</td>\n",
       "      <td>{\"CARDINAL\": [\"seven\", \"as high as 25\", \"20 to...</td>\n",
       "    </tr>\n",
       "    <tr>\n",
       "      <th>1</th>\n",
       "      <td>Parisians’ Olympic spirit not dampened – but g...</td>\n",
       "      <td>The vibrant opening ceremony and a flurry of F...</td>\n",
       "      <td>{\"CARDINAL\": [\"hundreds of thousands\", \"one\", ...</td>\n",
       "    </tr>\n",
       "    <tr>\n",
       "      <th>2</th>\n",
       "      <td>Age anxiety hangs over first Biden-Trump debate</td>\n",
       "      <td>On Thursday, the current president, 81, and hi...</td>\n",
       "      <td>{\"CARDINAL\": [\"two\", \"two\", \"two\", \"One\", \"65\"...</td>\n",
       "    </tr>\n",
       "    <tr>\n",
       "      <th>3</th>\n",
       "      <td>Ukraine in mourning after day of deadly attacks</td>\n",
       "      <td>A children's hospital in Kyiv was hit when Rus...</td>\n",
       "      <td>{\"CARDINAL\": [\"one\", \"at least 41\", \"166\", \"Tw...</td>\n",
       "    </tr>\n",
       "    <tr>\n",
       "      <th>4</th>\n",
       "      <td>Democrats backed into a corner over Biden's pe...</td>\n",
       "      <td>Prominent voices in the Democratic Party are o...</td>\n",
       "      <td>{\"CARDINAL\": [\"one\", \"two\", \"one\", \"one\"], \"DA...</td>\n",
       "    </tr>\n",
       "    <tr>\n",
       "      <th>...</th>\n",
       "      <td>...</td>\n",
       "      <td>...</td>\n",
       "      <td>...</td>\n",
       "    </tr>\n",
       "    <tr>\n",
       "      <th>128712</th>\n",
       "      <td>Why was the French election result such a surp...</td>\n",
       "      <td>Polling firms say their models weren’t able to...</td>\n",
       "      <td>None</td>\n",
       "    </tr>\n",
       "    <tr>\n",
       "      <th>128713</th>\n",
       "      <td>Biden’s new measures to stem illegal border cr...</td>\n",
       "      <td>Advocacy groups for immigrants sued to overtur...</td>\n",
       "      <td>{\"CARDINAL\": [\"5,000\", \"2,500\", \"half\", \"about...</td>\n",
       "    </tr>\n",
       "    <tr>\n",
       "      <th>128714</th>\n",
       "      <td>The many battles of Benjamin Netanyahu</td>\n",
       "      <td>The consummate political survivor, Benjamin Ne...</td>\n",
       "      <td>{\"CARDINAL\": [\"four\", \"more than 300\", \"more t...</td>\n",
       "    </tr>\n",
       "    <tr>\n",
       "      <th>128715</th>\n",
       "      <td>Alleged rape of Australian rattles Paris days ...</td>\n",
       "      <td>Officials had said the French capital would be...</td>\n",
       "      <td>{\"CARDINAL\": [\"About 15,000\", \"35,000\", \"Up to...</td>\n",
       "    </tr>\n",
       "    <tr>\n",
       "      <th>128716</th>\n",
       "      <td>U.K. braces for more riots. Why has the violen...</td>\n",
       "      <td>Experts say British police are stretched thin,...</td>\n",
       "      <td>{\"CARDINAL\": [\"Thousands\", \"dozen\", \"a dozen\",...</td>\n",
       "    </tr>\n",
       "  </tbody>\n",
       "</table>\n",
       "<p>128717 rows × 3 columns</p>\n",
       "</div>"
      ],
      "text/plain": [
       "                                                    title  \\\n",
       "0       Residents flee Greek wildfire as heatwave pers...   \n",
       "1       Parisians’ Olympic spirit not dampened – but g...   \n",
       "2         Age anxiety hangs over first Biden-Trump debate   \n",
       "3         Ukraine in mourning after day of deadly attacks   \n",
       "4       Democrats backed into a corner over Biden's pe...   \n",
       "...                                                   ...   \n",
       "128712  Why was the French election result such a surp...   \n",
       "128713  Biden’s new measures to stem illegal border cr...   \n",
       "128714             The many battles of Benjamin Netanyahu   \n",
       "128715  Alleged rape of Australian rattles Paris days ...   \n",
       "128716  U.K. braces for more riots. Why has the violen...   \n",
       "\n",
       "                                              description  \\\n",
       "0       Forty fires have broken out in Greece since Sa...   \n",
       "1       The vibrant opening ceremony and a flurry of F...   \n",
       "2       On Thursday, the current president, 81, and hi...   \n",
       "3       A children's hospital in Kyiv was hit when Rus...   \n",
       "4       Prominent voices in the Democratic Party are o...   \n",
       "...                                                   ...   \n",
       "128712  Polling firms say their models weren’t able to...   \n",
       "128713  Advocacy groups for immigrants sued to overtur...   \n",
       "128714  The consummate political survivor, Benjamin Ne...   \n",
       "128715  Officials had said the French capital would be...   \n",
       "128716  Experts say British police are stretched thin,...   \n",
       "\n",
       "                                          key_information  \n",
       "0       {\"CARDINAL\": [\"seven\", \"as high as 25\", \"20 to...  \n",
       "1       {\"CARDINAL\": [\"hundreds of thousands\", \"one\", ...  \n",
       "2       {\"CARDINAL\": [\"two\", \"two\", \"two\", \"One\", \"65\"...  \n",
       "3       {\"CARDINAL\": [\"one\", \"at least 41\", \"166\", \"Tw...  \n",
       "4       {\"CARDINAL\": [\"one\", \"two\", \"one\", \"one\"], \"DA...  \n",
       "...                                                   ...  \n",
       "128712                                               None  \n",
       "128713  {\"CARDINAL\": [\"5,000\", \"2,500\", \"half\", \"about...  \n",
       "128714  {\"CARDINAL\": [\"four\", \"more than 300\", \"more t...  \n",
       "128715  {\"CARDINAL\": [\"About 15,000\", \"35,000\", \"Up to...  \n",
       "128716  {\"CARDINAL\": [\"Thousands\", \"dozen\", \"a dozen\",...  \n",
       "\n",
       "[128717 rows x 3 columns]"
      ]
     },
     "execution_count": 5,
     "metadata": {},
     "output_type": "execute_result"
    }
   ],
   "source": [
    "df"
   ]
  },
  {
   "cell_type": "code",
   "execution_count": 6,
   "id": "f1114564-9189-4adc-8e88-330c076a00b1",
   "metadata": {},
   "outputs": [
    {
     "name": "stdout",
     "output_type": "stream",
     "text": [
      "0         False\n",
      "1         False\n",
      "2         False\n",
      "3         False\n",
      "4         False\n",
      "          ...  \n",
      "128712     True\n",
      "128713    False\n",
      "128714    False\n",
      "128715    False\n",
      "128716    False\n",
      "Length: 128717, dtype: bool\n"
     ]
    }
   ],
   "source": [
    "rows_with_missing = df.isnull().any(axis=1)\n",
    "\n",
    "print(rows_with_missing)"
   ]
  },
  {
   "cell_type": "code",
   "execution_count": null,
   "id": "740389ae-4408-4c48-9e21-10e5ba7e3737",
   "metadata": {},
   "outputs": [],
   "source": []
  }
 ],
 "metadata": {
  "kernelspec": {
   "display_name": "my_env",
   "language": "python",
   "name": "my_env"
  },
  "language_info": {
   "codemirror_mode": {
    "name": "ipython",
    "version": 3
   },
   "file_extension": ".py",
   "mimetype": "text/x-python",
   "name": "python",
   "nbconvert_exporter": "python",
   "pygments_lexer": "ipython3",
   "version": "3.12.3"
  }
 },
 "nbformat": 4,
 "nbformat_minor": 5
}
